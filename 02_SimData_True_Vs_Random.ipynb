{
 "cells": [
  {
   "cell_type": "code",
   "execution_count": 1,
   "metadata": {},
   "outputs": [],
   "source": [
    "from deap import base\n",
    "from deap import creator\n",
    "from deap import tools\n",
    "from deap import algorithms\n",
    "\n",
    "import array\n",
    "import pandas as pd\n",
    "\n",
    "import random\n",
    "import numpy as np\n",
    "\n",
    "import matplotlib.pyplot as plt\n",
    "import seaborn as sns\n",
    "\n",
    "from lifelines import KaplanMeierFitter\n",
    "\n",
    "from lifelines import CoxPHFitter\n",
    "\n",
    "from Data.dataset import Flchain\n",
    "from Data.dataset import SimPHDataset\n",
    "\n",
    "from scipy.stats import ttest_ind, ttest_rel\n",
    "\n",
    "from model import CPH, ExpMultiTrues\n",
    "import seaborn as sns\n",
    "\n",
    "import warnings\n",
    "warnings.filterwarnings('ignore')"
   ]
  },
  {
   "cell_type": "code",
   "execution_count": 2,
   "metadata": {},
   "outputs": [
    {
     "name": "stdout",
     "output_type": "stream",
     "text": [
      "Dataset Description =======================\n",
      "Dataset Name: SimPHDataset\n",
      "Dataset Shape: (1000, 9)\n",
      "Events: 50.00 %\n",
      "NaN Values: 0.00 %\n",
      "Size and Events % in splits: (200, 50.00%), (200, 50.00%), (200, 50.00%), (200, 50.00%), (200, 50.00%), \n",
      "===========================================\n",
      "\n"
     ]
    }
   ],
   "source": [
    "ds = SimPHDataset(percentage_cens=0.5, verbose=True)"
   ]
  },
  {
   "cell_type": "code",
   "execution_count": 3,
   "metadata": {
    "scrolled": true
   },
   "outputs": [
    {
     "name": "stdout",
     "output_type": "stream",
     "text": [
      "Correct events_p: 0.25\n",
      "4.51 mind: 999\n",
      "Correct events_p: 0.5\n",
      "4.95 mind: 999\n",
      "Correct events_p: 0.75\n",
      "5.64 mind: 999\n"
     ]
    }
   ],
   "source": [
    "percentage_cens = 0.5\n",
    "m_exp = ExpMultiTrues(dataset_class=SimPHDataset, dataset_filepath=None, test_fract=0.3, percentage_cens=percentage_cens)\n",
    "m_exp.run(repetitions=1000)"
   ]
  },
  {
   "cell_type": "code",
   "execution_count": 4,
   "metadata": {},
   "outputs": [],
   "source": [
    "# np.save('results/true_vs_random/ctrains_true_ps.npy',np.array(m_exp.ctrains_true_ps))\n",
    "# np.save('results/true_vs_random/ctrains_some_ps.npy',np.array(m_exp.ctrains_some_ps))\n",
    "# np.save('results/true_vs_random/cvals_true_ps.npy',np.array(m_exp.cvals_true_ps))\n",
    "# np.save('results/true_vs_random/cvals_some_ps.npy',np.array(m_exp.cvals_some_ps))\n",
    "# np.save('results/true_vs_random/accuracies.npy',np.array(m_exp.accuracies))\n",
    "# np.save('results/true_vs_random/accuracies_true.npy',np.array(m_exp.accuracies_true))\n"
   ]
  },
  {
   "cell_type": "code",
   "execution_count": 5,
   "metadata": {},
   "outputs": [],
   "source": [
    "ctrains_true_ps = np.load('results/true_vs_random/ctrains_true_ps.npy')\n",
    "ctrains_some_ps = np.load('results/true_vs_random/ctrains_some_ps.npy')\n",
    "cvals_true_ps= np.load('results/true_vs_random/cvals_true_ps.npy')\n",
    "cvals_some_ps= np.load('results/true_vs_random/cvals_some_ps.npy')\n",
    "accuracies = np.load('results/true_vs_random/accuracies.npy')\n",
    "accuracies_true = np.load('results/true_vs_random/accuracies_true.npy')"
   ]
  },
  {
   "cell_type": "code",
   "execution_count": 56,
   "metadata": {},
   "outputs": [],
   "source": [
    "\n",
    "    \n",
    "def plot_ones_acc_vs_cindex():\n",
    "    fig, ax = plt.subplots(1, 2, figsize=(15, 3))\n",
    "    ax[0].set_title('Train')\n",
    "    ax[0].scatter(accuracies_true.reshape(-1), ctrains_true_ps.reshape(-1),\n",
    "                  label='True Labels', alpha=0.2)\n",
    "    ax[0].scatter(accuracies_true.reshape(-1), ctrains_some_ps.reshape(-1),\n",
    "                  label='Random Labels', alpha=0.2)\n",
    "    # ax[0].scatter(np.array(self.accuracies_true[5:]).reshape(-1), np.array(self.ctrains_some_ps[5:]).reshape(-1), label='High True 1s', alpha=0.2)\n",
    "    # ax[0].scatter(np.array(range(1, len(self.ctrains_true_ps)+1))*0.1, self.ctrains_true_ps, marker='+', s=100, c='k')\n",
    "    ax[0].set_xlabel('E Accuracy')\n",
    "    ax[0].set_ylabel('C-Index')\n",
    "    ax[0].legend()\n",
    "\n",
    "    ax[1].set_title('Val')\n",
    "    ax[1].scatter(accuracies_true.reshape(-1), cvals_true_ps.reshape(-1), alpha=0.2,\n",
    "                  label='True Labels')\n",
    "    ax[1].scatter(accuracies_true.reshape(-1), cvals_some_ps.reshape(-1), alpha=0.2,\n",
    "                  label='Random Labels')\n",
    "    # ax[1].scatter(np.array(self.accuracies_true[5:]).reshape(-1), np.array(self.cvals_some_ps[5:]).reshape(-1), label='High True 1s', alpha=0.2)\n",
    "\n",
    "    # ax[1].scatter(np.array(range(1, len(self.cvals_true_ps)+1))*0.1, self.cvals_true_ps, marker='+', s=100, c='k')\n",
    "    ax[1].set_xlabel('E Accuracy')\n",
    "    ax[1].set_ylabel('C-Index')\n",
    "    ax[1].legend()\n",
    "    \n",
    "def plot_true_vs_random():\n",
    "    cdiff_train_ps = []\n",
    "    cdiff_val_ps = []\n",
    "    inc_prob_train_ps = []\n",
    "    inc_prob_val_ps = []\n",
    "    correctly_labeled_ps = [0.25, 0.50, 0.75]\n",
    "    for i in range(3):\n",
    "        cdiff_train = ctrains_true_ps[i] - ctrains_some_ps[i]\n",
    "        cdiff_val = cvals_true_ps[i] - cvals_some_ps[i]\n",
    "        inc_prob_train, inc_prob_val = (cdiff_train > 0).mean(), (cdiff_val > 0).mean()\n",
    "        cdiff_train_ps.append(cdiff_train)\n",
    "        cdiff_val_ps.append(cdiff_val)\n",
    "        inc_prob_train_ps.append(inc_prob_train)\n",
    "        inc_prob_val_ps.append(inc_prob_val)\n",
    "\n",
    "        fig, ax = plt.subplots(1, 3, figsize=(15, 3))\n",
    "        # 'Correctly Labeled Events: {:.1f}'.format(((i+1)*0.1))\n",
    "        fig.suptitle(f'Censoring:{percentage_cens:.1f}, Correctly labeled event {correctly_labeled_ps[i]:.1f}')\n",
    "        ax[0].set_title('Train C-Index')\n",
    "        ax[0].plot(ctrains_true_ps[i], label='True Events')\n",
    "        ax[0].plot(ctrains_some_ps[i], label='Random Events')\n",
    "        ax[0].set_xlabel('Iterations')\n",
    "        ax[0].set_ylabel('CI')\n",
    "        ax[0].legend()\n",
    "\n",
    "        ax[1].set_title('Val C-Index')\n",
    "        ax[1].plot(cvals_true_ps[i], label='True Events')\n",
    "        ax[1].plot(cvals_some_ps[i], label='Random Events')\n",
    "        ax[1].set_xlabel('Iterations')\n",
    "        ax[1].set_ylabel('CI')\n",
    "        ax[1].legend()\n",
    "\n",
    "        ax[2].set_title('P(true>random), Train: {:.2f}, Val: {:.2f}'.format(inc_prob_train, inc_prob_val))\n",
    "        ax[2].plot(cdiff_train, label='Train C-Index Diff', c='k')\n",
    "        ax[2].plot(cdiff_val, label='Val C-Index Diff', c='gray')\n",
    "        plt.axhline(0, c='C2', ls=':')\n",
    "        ax[2].set_xlabel('Iterations')\n",
    "        ax[2].set_ylabel('CI diff')\n",
    "        ax[2].legend()\n",
    "        fig.tight_layout()\n",
    "\n",
    "        \n",
    "def plot_true_vs_random_box():\n",
    "    correctly_labeled_ps = [0.25, 0.50, 0.75]\n",
    "    for i in range(3):\n",
    "        #fig, ax = plt.subplots(1, 2, figsize=(6, 2))\n",
    "        \n",
    "        cdiff_train = ctrains_true_ps[i] - ctrains_some_ps[i]\n",
    "        cdiff_val = cvals_true_ps[i] - cvals_some_ps[i]\n",
    "        inc_prob_train, inc_prob_val = (cdiff_train > 0).mean(), (cdiff_val > 0).mean()\n",
    "        \n",
    "        plt.figure(figsize=(3,2))\n",
    "        #plt.boxplot([ctrains_true_ps[i], ctrains_some_ps[i]]);\n",
    "        sns.boxplot(data=[ctrains_true_ps[i], ctrains_some_ps[i]]);\n",
    "        plt.xticks([0, 1], ['True', 'Random'])\n",
    "        plt.ylabel('C-Index')\n",
    "        plt.title('P(true>random): {:.2f}'.format(inc_prob_train))\n",
    "        plt.ylim(0.7, 1)\n",
    "        plt.tight_layout()\n",
    "        plt.savefig(f'results/true_vs_random/figs/correctly_labeled_p_{correctly_labeled_ps[i]}_train.pdf')\n",
    "        \n",
    "        plt.figure(figsize=(3,2))\n",
    "        #plt.boxplot([cvals_true_ps[i], cvals_some_ps[i]]);\n",
    "        sns.boxplot(data=[cvals_true_ps[i], cvals_some_ps[i]]);\n",
    "        plt.xticks([0, 1], ['True', 'Random'])\n",
    "        plt.ylabel('C-Index')\n",
    "        plt.title('P(true>random): {:.2f}'.format(inc_prob_val))\n",
    "        plt.ylim(0.7, 1)\n",
    "        plt.tight_layout()\n",
    "        plt.savefig(f'results/true_vs_random/figs/correctly_labeled_p_{correctly_labeled_ps[i]}_test.pdf')\n",
    "    "
   ]
  },
  {
   "cell_type": "code",
   "execution_count": 57,
   "metadata": {
    "scrolled": false
   },
   "outputs": [
    {
     "data": {
      "image/png": "[encoded data removed]",
      "text/plain": [
       "<Figure size 216x144 with 1 Axes>"
      ]
     },
     "metadata": {
      "needs_background": "light"
     },
     "output_type": "display_data"
    },
    {
     "data": {
      "image/png": "[encoded data removed]",
      "text/plain": [
       "<Figure size 216x144 with 1 Axes>"
      ]
     },
     "metadata": {
      "needs_background": "light"
     },
     "output_type": "display_data"
    },
    {
     "data": {
      "image/png": "[encoded data removed]",
      "text/plain": [
       "<Figure size 216x144 with 1 Axes>"
      ]
     },
     "metadata": {
      "needs_background": "light"
     },
     "output_type": "display_data"
    },
    {
     "data": {
      "image/png": "[encoded data removed]",
      "text/plain": [
       "<Figure size 216x144 with 1 Axes>"
      ]
     },
     "metadata": {
      "needs_background": "light"
     },
     "output_type": "display_data"
    },
    {
     "data": {
      "image/png": "[encoded data removed]",
      "text/plain": [
       "<Figure size 216x144 with 1 Axes>"
      ]
     },
     "metadata": {
      "needs_background": "light"
     },
     "output_type": "display_data"
    },
    {
     "data": {
      "image/png": "[encoded data removed]",
      "text/plain": [
       "<Figure size 216x144 with 1 Axes>"
      ]
     },
     "metadata": {
      "needs_background": "light"
     },
     "output_type": "display_data"
    }
   ],
   "source": [
    "plot_true_vs_random_box()"
   ]
  },
  {
   "cell_type": "code",
   "execution_count": null,
   "metadata": {},
   "outputs": [],
   "source": [
    "def plot_true_vs_random_box():\n",
    "    correctly_labeled_ps = [0.25, 0.50, 0.75]\n",
    "    for i in range(3):\n",
    "        #fig, ax = plt.subplots(1, 2, figsize=(6, 2))\n",
    "        \n",
    "        cdiff_train = ctrains_true_ps[i] - ctrains_some_ps[i]\n",
    "        cdiff_val = cvals_true_ps[i] - cvals_some_ps[i]\n",
    "        inc_prob_train, inc_prob_val = (cdiff_train > 0).mean(), (cdiff_val > 0).mean()\n",
    "        \n",
    "        plt.figure(figsize=(3,2))\n",
    "        #plt.boxplot([ctrains_true_ps[i], ctrains_some_ps[i]]);\n",
    "        sns.boxplot(data=[ctrains_true_ps[i], ctrains_some_ps[i]]);\n",
    "        plt.xticks([0, 1], ['True', 'Random'])\n",
    "        plt.ylabel('C-Index')\n",
    "        plt.title('P(true>random): {:.2f}'.format(inc_prob_train))\n",
    "        plt.ylim(0.7, 1)\n",
    "        plt.tight_layout()\n",
    "        plt.savefig(f'results/true_vs_random/figs/correctly_labeled_p_{correctly_labeled_ps[i]}_train.pdf')\n",
    "        \n",
    "        plt.figure(figsize=(3,2))\n",
    "        #plt.boxplot([cvals_true_ps[i], cvals_some_ps[i]]);\n",
    "        sns.boxplot(data=[cvals_true_ps[i], cvals_some_ps[i]]);\n",
    "        plt.xticks([0, 1], ['True', 'Random'])\n",
    "        plt.ylabel('C-Index')\n",
    "        plt.title('P(true>random): {:.2f}'.format(inc_prob_val))\n",
    "        plt.ylim(0.7, 1)\n",
    "        plt.tight_layout()\n",
    "        plt.savefig(f'results/true_vs_random/figs/correctly_labeled_p_{correctly_labeled_ps[i]}_test.pdf')\n",
    "    "
   ]
  },
  {
   "cell_type": "code",
   "execution_count": 81,
   "metadata": {},
   "outputs": [],
   "source": [
    "df_train_true = pd.DataFrame(ctrains_true_ps.transpose(), columns=['25%', '50%', '75%'])\n",
    "df_train_true['Label'] = 'True'\n",
    "df_train_random = pd.DataFrame(ctrains_some_ps.transpose(), columns=['25%', '50%', '75%'])\n",
    "df_train_random['Label'] = 'Random'\n",
    "\n",
    "df_train = pd.concat([df_train_true, df_train_random])\n",
    "\n",
    "\n",
    "df_test_true = pd.DataFrame(cvals_true_ps.transpose(), columns=['25%', '50%', '75%'])\n",
    "df_test_true['Label'] = 'True'\n",
    "df_test_random = pd.DataFrame(cvals_some_ps.transpose(), columns=['25%', '50%', '75%'])\n",
    "df_test_random['Label'] = 'Random'\n",
    "\n",
    "df_test = pd.concat([df_test_true, df_test_random])\n",
    "\n",
    "df_train_m = pd.melt(df_train, id_vars=['Label'], value_vars=['25%', '50%', '75%'])\n",
    "df_test_m = pd.melt(df_test, id_vars=['Label'], value_vars=['25%', '50%', '75%'])"
   ]
  },
  {
   "cell_type": "code",
   "execution_count": null,
   "metadata": {},
   "outputs": [],
   "source": []
  },
  {
   "cell_type": "code",
   "execution_count": 93,
   "metadata": {
    "scrolled": true
   },
   "outputs": [
    {
     "data": {
      "image/png": "[encoded data removed]",
      "text/plain": [
       "<Figure size 288x216 with 1 Axes>"
      ]
     },
     "metadata": {
      "needs_background": "light"
     },
     "output_type": "display_data"
    }
   ],
   "source": [
    "plt.figure(figsize=(4,3))\n",
    "sns.boxplot(data=df_train_m, x='variable', y='value', hue='Label');\n",
    "plt.xlabel('Correct Events %')\n",
    "plt.ylabel('C-Index')\n",
    "plt.tight_layout()\n",
    "plt.savefig(f'results/true_vs_random/figs/true_vs_random_train.pdf')"
   ]
  },
  {
   "cell_type": "code",
   "execution_count": 94,
   "metadata": {},
   "outputs": [
    {
     "data": {
      "image/png": "[encoded data removed]",
      "text/plain": [
       "<Figure size 288x216 with 1 Axes>"
      ]
     },
     "metadata": {
      "needs_background": "light"
     },
     "output_type": "display_data"
    }
   ],
   "source": [
    "plt.figure(figsize=(4,3))\n",
    "sns.boxplot(data=df_test_m, x='variable', y='value', hue='Label');\n",
    "plt.xlabel('Correct Events %')\n",
    "plt.ylabel('C-Index')\n",
    "plt.tight_layout()\n",
    "plt.savefig(f'results/true_vs_random/figs/true_vs_random_test.pdf')"
   ]
  },
  {
   "cell_type": "code",
   "execution_count": null,
   "metadata": {},
   "outputs": [],
   "source": []
  }
 ],
 "metadata": {
  "kernelspec": {
   "display_name": "Python 3",
   "language": "python",
   "name": "python3"
  },
  "language_info": {
   "codemirror_mode": {
    "name": "ipython",
    "version": 3
   },
   "file_extension": ".py",
   "mimetype": "text/x-python",
   "name": "python",
   "nbconvert_exporter": "python",
   "pygments_lexer": "ipython3",
   "version": "3.7.6"
  }
 },
 "nbformat": 4,
 "nbformat_minor": 2
}

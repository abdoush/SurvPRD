{
 "cells": [
  {
   "cell_type": "code",
   "execution_count": 1,
   "metadata": {},
   "outputs": [],
   "source": [
    "from deap import base\n",
    "from deap import creator\n",
    "from deap import tools\n",
    "from deap import algorithms\n",
    "\n",
    "import time\n",
    "\n",
    "import array\n",
    "import pandas as pd\n",
    "\n",
    "import random\n",
    "import numpy as np\n",
    "\n",
    "import matplotlib.pyplot as plt\n",
    "import seaborn as sns\n",
    "\n",
    "from lifelines import KaplanMeierFitter\n",
    "\n",
    "from lifelines import CoxPHFitter\n",
    "\n",
    "from Data.dataset import Flchain, SimPHData\n",
    "\n",
    "from scipy.stats import ttest_ind, ttest_rel\n",
    "\n",
    "import seaborn as sns\n",
    "from IPython.display import display\n",
    "\n",
    "from model import ExpOneBitChange\n",
    "\n"
   ]
  },
  {
   "cell_type": "code",
   "execution_count": 12,
   "metadata": {},
   "outputs": [],
   "source": [
    "def run_exps_changeing_censoring(correctly_labeled_p, n_samples=10, n_iterations=3):\n",
    "    exps_df = pd.DataFrame()\n",
    "    e_df = pd.DataFrame()\n",
    "\n",
    "    for pi in range(1, 10):\n",
    "        pc = pi * 0.1\n",
    "        print(f'censoring_p_orig:{pc:.2f}')\n",
    "        for k in range(n_iterations):\n",
    "            \n",
    "            exp = ExpOneBitChange(n_samples=n_samples, censoring_p_orig=pc, random_state_seed=k, correctly_labeled_p=correctly_labeled_p)\n",
    "            print(f'             Iteration: {k}, Total events: {exp.e.sum()}, Correct events: {exp.new_unknown_true_e.sum()}', end='\\r', flush=True)\n",
    "            exp.run(k)\n",
    "            #if k == 0:\n",
    "            e_df[f'e_{pi}_orig_{k}'] = exp.e\n",
    "            e_df[f'e_{pi}_{k}'] = exp.new_unknown_true_e\n",
    "            exps_df = pd.concat([exps_df, exp.results_df], ignore_index=True)\n",
    "        print('')\n",
    "    return exps_df, e_df"
   ]
  },
  {
   "cell_type": "markdown",
   "metadata": {},
   "source": [
    "# Correctly Labeled 0.25"
   ]
  },
  {
   "cell_type": "code",
   "execution_count": 13,
   "metadata": {},
   "outputs": [
    {
     "name": "stdout",
     "output_type": "stream",
     "text": [
      "censoring_p_orig:0.10\n",
      "Bits% 1.0000 Iteration: 999, Total events: 90.0, Correct events: 23.0\n",
      "censoring_p_orig:0.20\n",
      "Bits% 1.0000 Iteration: 999, Total events: 80.0, Correct events: 20.0\n",
      "censoring_p_orig:0.30\n",
      "Bits% 1.0000 Iteration: 999, Total events: 70.0, Correct events: 18.0\n",
      "censoring_p_orig:0.40\n",
      "Bits% 1.0000 Iteration: 999, Total events: 60.0, Correct events: 15.0\n",
      "censoring_p_orig:0.50\n",
      "Bits% 1.0000 Iteration: 999, Total events: 50.0, Correct events: 13.0\n",
      "censoring_p_orig:0.60\n",
      "Bits% 1.0000 Iteration: 999, Total events: 40.0, Correct events: 10.0\n",
      "censoring_p_orig:0.70\n",
      "Bits% 1.0000 Iteration: 999, Total events: 30.0, Correct events: 8.0\n",
      "censoring_p_orig:0.80\n",
      "Bits% 1.0000 Iteration: 999, Total events: 20.0, Correct events: 5.0\n",
      "censoring_p_orig:0.90\n",
      "Bits% 1.0000 Iteration: 999, Total events: 10.0, Correct events: 3.0\n"
     ]
    }
   ],
   "source": [
    "exps_df25, e_df25 = run_exps_changeing_censoring(correctly_labeled_p=0.25, n_samples=100, n_iterations=1000)"
   ]
  },
  {
   "cell_type": "code",
   "execution_count": 14,
   "metadata": {},
   "outputs": [],
   "source": [
    "exps_df25.to_csv('flip_one_bit_sim_exps_df_25_correct.csv', index=False)\n",
    "e_df25.to_csv('flip_one_bit_sim_e_df_25_correct.csv', index=False)"
   ]
  },
  {
   "cell_type": "code",
   "execution_count": 15,
   "metadata": {},
   "outputs": [
    {
     "name": "stdout",
     "output_type": "stream",
     "text": [
      "P that max change in CI is caused by wrongly labeled instance: 0.8791111111111111 , the random guess is 0.75\n"
     ]
    }
   ],
   "source": [
    "g25 = exps_df25.groupby(['exp_id', 'censoring_p_orig'])\n",
    "max_df25 = g25.apply(lambda x: x[x['diff_from_base_ci']==x['diff_from_base_ci'].max()])\n",
    "\n",
    "print('P that max change in CI is caused by wrongly labeled instance:', max_df25['is_wrong_event_label'].mean(), f', the random guess is {1-0.25}')"
   ]
  },
  {
   "cell_type": "markdown",
   "metadata": {},
   "source": [
    "# Correctly Labeled 0.50"
   ]
  },
  {
   "cell_type": "code",
   "execution_count": 16,
   "metadata": {},
   "outputs": [
    {
     "name": "stdout",
     "output_type": "stream",
     "text": [
      "censoring_p_orig:0.10\n",
      "Bits% 1.0000 Iteration: 999, Total events: 90.0, Correct events: 45.0\n",
      "censoring_p_orig:0.20\n",
      "Bits% 1.0000 Iteration: 999, Total events: 80.0, Correct events: 40.0\n",
      "censoring_p_orig:0.30\n",
      "Bits% 1.0000 Iteration: 999, Total events: 70.0, Correct events: 35.0\n",
      "censoring_p_orig:0.40\n",
      "Bits% 1.0000 Iteration: 999, Total events: 60.0, Correct events: 30.0\n",
      "censoring_p_orig:0.50\n",
      "Bits% 1.0000 Iteration: 999, Total events: 50.0, Correct events: 25.0\n",
      "censoring_p_orig:0.60\n",
      "Bits% 1.0000 Iteration: 999, Total events: 40.0, Correct events: 20.0\n",
      "censoring_p_orig:0.70\n",
      "Bits% 1.0000 Iteration: 999, Total events: 30.0, Correct events: 15.0\n",
      "censoring_p_orig:0.80\n",
      "Bits% 1.0000 Iteration: 999, Total events: 20.0, Correct events: 10.0\n",
      "censoring_p_orig:0.90\n",
      "Bits% 1.0000 Iteration: 999, Total events: 10.0, Correct events: 5.0\n"
     ]
    }
   ],
   "source": [
    "exps_df50, e_df50 = run_exps_changeing_censoring(correctly_labeled_p=0.50, n_samples=100, n_iterations=1000)"
   ]
  },
  {
   "cell_type": "code",
   "execution_count": 17,
   "metadata": {},
   "outputs": [],
   "source": [
    "exps_df50.to_csv('flip_one_bit_sim_exps_df_50_correct.csv', index=False)\n",
    "e_df50.to_csv('flip_one_bit_sim_e_df_50_correct.csv', index=False)"
   ]
  },
  {
   "cell_type": "code",
   "execution_count": 18,
   "metadata": {},
   "outputs": [
    {
     "name": "stdout",
     "output_type": "stream",
     "text": [
      "P that max change in CI is caused by wrongly labeled instance: 0.7196666666666667 , the random guess is 0.5\n"
     ]
    }
   ],
   "source": [
    "g50 = exps_df50.groupby(['exp_id', 'censoring_p_orig'])\n",
    "max_df50 = g50.apply(lambda x: x[x['diff_from_base_ci']==x['diff_from_base_ci'].max()])\n",
    "\n",
    "print('P that max change in CI is caused by wrongly labeled instance:', max_df50['is_wrong_event_label'].mean(), f', the random guess is {1-0.50}')"
   ]
  },
  {
   "cell_type": "markdown",
   "metadata": {},
   "source": [
    "# Correctly Labeled 0.75"
   ]
  },
  {
   "cell_type": "code",
   "execution_count": 19,
   "metadata": {},
   "outputs": [
    {
     "name": "stdout",
     "output_type": "stream",
     "text": [
      "censoring_p_orig:0.10\n",
      "Bits% 1.0000 Iteration: 999, Total events: 90.0, Correct events: 68.0\n",
      "censoring_p_orig:0.20\n",
      "Bits% 1.0000 Iteration: 999, Total events: 80.0, Correct events: 60.0\n",
      "censoring_p_orig:0.30\n",
      "Bits% 1.0000 Iteration: 999, Total events: 70.0, Correct events: 53.0\n",
      "censoring_p_orig:0.40\n",
      "Bits% 1.0000 Iteration: 999, Total events: 60.0, Correct events: 45.0\n",
      "censoring_p_orig:0.50\n",
      "Bits% 1.0000 Iteration: 999, Total events: 50.0, Correct events: 38.0\n",
      "censoring_p_orig:0.60\n",
      "Bits% 1.0000 Iteration: 999, Total events: 40.0, Correct events: 30.0\n",
      "censoring_p_orig:0.70\n",
      "Bits% 1.0000 Iteration: 999, Total events: 30.0, Correct events: 23.0\n",
      "censoring_p_orig:0.80\n",
      "Bits% 1.0000 Iteration: 999, Total events: 20.0, Correct events: 15.0\n",
      "censoring_p_orig:0.90\n",
      "Bits% 1.0000 Iteration: 999, Total events: 10.0, Correct events: 8.0\n"
     ]
    }
   ],
   "source": [
    "exps_df75, e_df75 = run_exps_changeing_censoring(correctly_labeled_p=0.75, n_samples=100, n_iterations=1000)"
   ]
  },
  {
   "cell_type": "code",
   "execution_count": 20,
   "metadata": {},
   "outputs": [],
   "source": [
    "exps_df75.to_csv('flip_one_bit_sim_exps_df_75_correct.csv', index=False)\n",
    "e_df75.to_csv('flip_one_bit_sim_e_df_75_correct.csv', index=False)"
   ]
  },
  {
   "cell_type": "code",
   "execution_count": 21,
   "metadata": {},
   "outputs": [
    {
     "name": "stdout",
     "output_type": "stream",
     "text": [
      "P that max change in CI is caused by wrongly labeled instance: 0.44433333333333336 , the random guess is 0.25\n"
     ]
    }
   ],
   "source": [
    "g75 = exps_df75.groupby(['exp_id', 'censoring_p_orig'])\n",
    "max_df75 = g75.apply(lambda x: x[x['diff_from_base_ci']==x['diff_from_base_ci'].max()])\n",
    "\n",
    "print('P that max change in CI is caused by wrongly labeled instance:', max_df75['is_wrong_event_label'].mean(), f', the random guess is {1-0.75}')"
   ]
  },
  {
   "cell_type": "code",
   "execution_count": null,
   "metadata": {},
   "outputs": [],
   "source": []
  }
 ],
 "metadata": {
  "kernelspec": {
   "display_name": "Python 3",
   "language": "python",
   "name": "python3"
  },
  "language_info": {
   "codemirror_mode": {
    "name": "ipython",
    "version": 3
   },
   "file_extension": ".py",
   "mimetype": "text/x-python",
   "name": "python",
   "nbconvert_exporter": "python",
   "pygments_lexer": "ipython3",
   "version": "3.7.6"
  }
 },
 "nbformat": 4,
 "nbformat_minor": 2
}
